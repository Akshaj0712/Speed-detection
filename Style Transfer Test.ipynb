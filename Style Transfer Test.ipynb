{
  "cells": [
    {
      "cell_type": "markdown",
      "metadata": {
        "id": "view-in-github",
        "colab_type": "text"
      },
      "source": [
        "<a href=\"https://colab.research.google.com/github/Akshaj0712/Speed-detection/blob/main/Style%20Transfer%20Test.ipynb\" target=\"_parent\"><img src=\"https://colab.research.google.com/assets/colab-badge.svg\" alt=\"Open In Colab\"/></a>"
      ]
    },
    {
      "cell_type": "code",
      "source": [
        "#if not using colab, install pytorch\n",
        "#pip3 install torch==1.10.0+cu102 torchvision==0.11.1+\n",
        "#cu102 torchaudio===0.10.0+cu102 -f https://download.pytorch.org/whl/cu102/torch_stable.html\n",
        "import torch\n",
        "import torch.nn as nn\n",
        "import torch.optim as optimization\n",
        "\n",
        "import torchvision.models as models\n",
        "import torchvision.transforms as transforms\n",
        "from torchvision.utils import save_image\n",
        "\n",
        "from tqdm.notebook import tqdm\n",
        "from PIL import Image\n"
      ],
      "metadata": {
        "id": "7E7ah8GwPQ1z"
      },
      "execution_count": 6,
      "outputs": []
    },
    {
      "cell_type": "code",
      "source": [
        "def load_img(path):\n",
        "  img = Image.open(path)\n",
        "  img = loader(img).unsqueeze(0)\n",
        "  return img.to(device)"
      ],
      "metadata": {
        "id": "RhcxDKNFOv-N"
      },
      "execution_count": 8,
      "outputs": []
    },
    {
      "cell_type": "code",
      "source": [
        "def save(target, i):\n",
        "  #the image needs to be denormalized first\n",
        "  denormalization = transforms.Normalize((-2.12, -2.04, -1.80), (4.37, 4.46, 4.44))\n",
        "  #remove the additional dimension\n",
        "  img = target.clone().squeeze()\n",
        "  img = denormalization(img).clamp(0, 1)\n",
        "  save_image(img, f'result_{i}.png')\n",
        ""
      ],
      "metadata": {
        "id": "DcQesr481n7N"
      },
      "execution_count": 26,
      "outputs": []
    },
    {
      "cell_type": "code",
      "source": [
        "#if gpu available use it and load images in higher resolution\n",
        "#for cpu:\n",
        "#device = 'cpu'\n",
        "#img_size = 128\n",
        "device = torch.device('cuda' if torch.cuda.is_available() else 'cpu')\n",
        "img_size = 512 if torch.cuda.is_available() else 128\n",
        "#preprocessing of the images\n",
        "loader = transforms.Compose([\n",
        "                             transforms.Resize(img_size),\n",
        "                             transforms.ToTensor(),\n",
        "                             transforms.Normalize([0.485, 0.456, 0.406], [0.229, 0.224, 0.225])])\n",
        "\n",
        "#initial model\n",
        "model = models.vgg19(pretrained=True).features\n",
        "\n",
        "generate_img = torch.randn((1,3,512,512), requires_grad = True)\n",
        "#the optimizer; in the paper they are using LBFGS, but we can go ahead and use Adam since it's generally more adequate\n",
        "optimizer = optimization.Adam([generate_img], lr=0.001)\n",
        "\n",
        "steps = 1000\n",
        "alpha = 1 #content wight\n",
        "beta = 10000 #style weight\n",
        "\n",
        "#the 3 needed images\n",
        "#define the load_img function first\n",
        "content_img = load_img('/content.jpg')\n",
        "style_img = load_img('/style.jpg')\n",
        "#we can start from a random noise generated image or\n",
        "#just copy the content image as a starting point\n",
        "target_img = content_img.clone().requires_grad_(True)"
      ],
      "metadata": {
        "id": "gXt8J5zYOuHt"
      },
      "execution_count": 23,
      "outputs": []
    },
    {
      "cell_type": "code",
      "source": [
        "def get_content_loss(target, content):\n",
        "  return torch.mean((target-content)**2)\n",
        "\n",
        "def gram_matrix(input, c, h, w):\n",
        "  #c-channels; h-height; w-width\n",
        "  input = input.view(c, h*w)\n",
        "  #matrix multiplication on its own transposed form\n",
        "  G = torch.mm(input, input.t())\n",
        "  return G\n",
        "\n",
        "def get_style_loss(target, style):\n",
        "  _, c, h, w = target.size()\n",
        "  G = gram_matrix(target, c, h, w) #gram matrix for the target image\n",
        "  S = gram_matrix(style, c, h, w) #gram matrix for the style image\n",
        "  return torch.mean((G-S)**2)/(c*h*w)\n",
        "\n",
        "#class for loading the vgg19 model with wanted layers\n",
        "class VGG(nn.Module):\n",
        "  def __init__(self):\n",
        "    super(VGG, self).__init__()\n",
        "    self.select_features = ['0', '5', '10', '19', '28'] #conv layers\n",
        "    self.vgg = models.vgg19(pretrained=True).features\n",
        "\n",
        "  def forward(self, output):\n",
        "    features = []\n",
        "    for name, layer in self.vgg._modules.items():\n",
        "      output = layer(output)\n",
        "      if name in self.select_features:\n",
        "        features.append(output)\n",
        "    return features\n",
        "\n",
        "#load the model\n",
        "vgg = VGG().to(device).eval()"
      ],
      "metadata": {
        "id": "0r5oBYxDOXnH"
      },
      "execution_count": 28,
      "outputs": []
    },
    {
      "cell_type": "code",
      "source": [
        "for step in tqdm(range(steps)):\n",
        "  #get feature vectors representations for every image\n",
        "  target_feature = vgg(target_img)\n",
        "  content_feature = vgg(content_img)\n",
        "  style_feature = vgg(style_img)\n",
        "\n",
        "  #initiate the losses\n",
        "  style_loss = 0\n",
        "  content_loss = 0\n",
        "\n",
        "  for target, content, style in zip(target_feature, content_feature, style_feature):\n",
        "    # print(target.size()[0:2], content.size()[0:2], style.size()[0:2])\n",
        "    content_loss += get_content_loss(target, content)\n",
        "    style_loss += get_style_loss(style, content)\n",
        "  #calculate the total loss according to the original paper\n",
        "  total_loss = alpha*content_loss+beta*style_loss\n",
        "\n",
        "  #set parameters to zero\n",
        "  optimizer.zero_grad()\n",
        "  #compute the gradient\n",
        "  total_loss.backward()\n",
        "  #update parameters\n",
        "  optimizer.step()\n",
        "\n",
        "  #uncomment if you want to follow the progress\n",
        "  #if step%50 == 0:\n",
        "    #print(f'step: {step}, content loss: {content_loss.item()}, style loss: {style_loss.item()}')\n",
        "  #if step%100 == 0:\n",
        "    #save(target_img, step)"
      ],
      "metadata": {
        "id": "19ILxDK4OzK1",
        "outputId": "df820a65-a3f3-49f8-b7d2-651c4e92032f",
        "colab": {
          "base_uri": "https://localhost:8080/",
          "height": 211
        }
      },
      "execution_count": 1,
      "outputs": [
        {
          "output_type": "error",
          "ename": "NameError",
          "evalue": "name 'tqdm' is not defined",
          "traceback": [
            "\u001b[0;31m---------------------------------------------------------------------------\u001b[0m",
            "\u001b[0;31mNameError\u001b[0m                                 Traceback (most recent call last)",
            "\u001b[0;32m<ipython-input-1-5bbb0dea8322>\u001b[0m in \u001b[0;36m<cell line: 1>\u001b[0;34m()\u001b[0m\n\u001b[0;32m----> 1\u001b[0;31m \u001b[0;32mfor\u001b[0m \u001b[0mstep\u001b[0m \u001b[0;32min\u001b[0m \u001b[0mtqdm\u001b[0m\u001b[0;34m(\u001b[0m\u001b[0mrange\u001b[0m\u001b[0;34m(\u001b[0m\u001b[0msteps\u001b[0m\u001b[0;34m)\u001b[0m\u001b[0;34m)\u001b[0m\u001b[0;34m:\u001b[0m\u001b[0;34m\u001b[0m\u001b[0;34m\u001b[0m\u001b[0m\n\u001b[0m\u001b[1;32m      2\u001b[0m   \u001b[0;31m#get feature vectors representations for every image\u001b[0m\u001b[0;34m\u001b[0m\u001b[0;34m\u001b[0m\u001b[0m\n\u001b[1;32m      3\u001b[0m   \u001b[0mtarget_feature\u001b[0m \u001b[0;34m=\u001b[0m \u001b[0mvgg\u001b[0m\u001b[0;34m(\u001b[0m\u001b[0mtarget_img\u001b[0m\u001b[0;34m)\u001b[0m\u001b[0;34m\u001b[0m\u001b[0;34m\u001b[0m\u001b[0m\n\u001b[1;32m      4\u001b[0m   \u001b[0mcontent_feature\u001b[0m \u001b[0;34m=\u001b[0m \u001b[0mvgg\u001b[0m\u001b[0;34m(\u001b[0m\u001b[0mcontent_img\u001b[0m\u001b[0;34m)\u001b[0m\u001b[0;34m\u001b[0m\u001b[0;34m\u001b[0m\u001b[0m\n\u001b[1;32m      5\u001b[0m   \u001b[0mstyle_feature\u001b[0m \u001b[0;34m=\u001b[0m \u001b[0mvgg\u001b[0m\u001b[0;34m(\u001b[0m\u001b[0mstyle_img\u001b[0m\u001b[0;34m)\u001b[0m\u001b[0;34m\u001b[0m\u001b[0;34m\u001b[0m\u001b[0m\n",
            "\u001b[0;31mNameError\u001b[0m: name 'tqdm' is not defined"
          ]
        }
      ]
    },
    {
      "cell_type": "code",
      "source": [
        "from google.colab import drive\n",
        "drive.mount('/content/drive')"
      ],
      "metadata": {
        "id": "rmBjabUBjTBB"
      },
      "execution_count": null,
      "outputs": []
    }
  ],
  "metadata": {
    "colab": {
      "name": "Welcome To Colab",
      "provenance": [],
      "include_colab_link": true
    },
    "kernelspec": {
      "display_name": "Python 3",
      "name": "python3"
    }
  },
  "nbformat": 4,
  "nbformat_minor": 0
}